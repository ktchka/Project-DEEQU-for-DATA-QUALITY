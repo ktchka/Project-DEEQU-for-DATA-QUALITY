{
 "cells": [
  {
   "cell_type": "code",
   "execution_count": 1,
   "metadata": {},
   "outputs": [],
   "source": [
    "import os\n",
    "os.environ['SPARK_VERSION'] = '3.1'"
   ]
  },
  {
   "cell_type": "code",
   "execution_count": 3,
   "metadata": {},
   "outputs": [],
   "source": [
    "import pydeequ\n",
    "from pydeequ.profiles import *\n",
    "from pydeequ.checks import *\n",
    "from pydeequ.verification import *\n",
    "from pyspark.sql import functions as F\n",
    "from pyspark.sql import SparkSession"
   ]
  },
  {
   "cell_type": "code",
   "execution_count": 4,
   "metadata": {},
   "outputs": [
    {
     "name": "stderr",
     "output_type": "stream",
     "text": [
      "WARNING: An illegal reflective access operation has occurred\n",
      "WARNING: Illegal reflective access by org.apache.spark.unsafe.Platform (file:/nfs/env/lib/python3.8/site-packages/pyspark/jars/spark-unsafe_2.12-3.1.2.jar) to constructor java.nio.DirectByteBuffer(long,int)\n",
      "WARNING: Please consider reporting this to the maintainers of org.apache.spark.unsafe.Platform\n",
      "WARNING: Use --illegal-access=warn to enable warnings of further illegal reflective access operations\n",
      "WARNING: All illegal access operations will be denied in a future release\n"
     ]
    },
    {
     "name": "stdout",
     "output_type": "stream",
     "text": [
      ":: loading settings :: url = jar:file:/nfs/env/lib/python3.8/site-packages/pyspark/jars/ivy-2.4.0.jar!/org/apache/ivy/core/settings/ivysettings.xml\n"
     ]
    },
    {
     "name": "stderr",
     "output_type": "stream",
     "text": [
      "Ivy Default Cache set to: /home/karpov/.ivy2/cache\n",
      "The jars for the packages stored in: /home/karpov/.ivy2/jars\n",
      "com.amazon.deequ#deequ added as a dependency\n",
      ":: resolving dependencies :: org.apache.spark#spark-submit-parent-bf2b66c2-95e8-499e-8880-a8715388ff91;1.0\n",
      "\tconfs: [default]\n",
      "\tfound com.amazon.deequ#deequ;1.2.2-spark-3.0 in central\n",
      "\tfound org.scalanlp#breeze_2.12;0.13.2 in central\n",
      "\tfound org.scalanlp#breeze-macros_2.12;0.13.2 in central\n",
      "\tfound org.scala-lang#scala-reflect;2.12.1 in central\n",
      "\tfound com.github.fommil.netlib#core;1.1.2 in central\n",
      "\tfound net.sf.opencsv#opencsv;2.3 in central\n",
      "\tfound com.github.rwl#jtransforms;2.4.0 in central\n",
      "\tfound junit#junit;4.8.2 in central\n",
      "\tfound org.apache.commons#commons-math3;3.2 in central\n",
      "\tfound org.spire-math#spire_2.12;0.13.0 in central\n",
      "\tfound org.spire-math#spire-macros_2.12;0.13.0 in central\n",
      "\tfound org.typelevel#machinist_2.12;0.6.1 in central\n",
      "\tfound com.chuusai#shapeless_2.12;2.3.2 in central\n",
      "\tfound org.typelevel#macro-compat_2.12;1.1.1 in central\n",
      "\tfound org.slf4j#slf4j-api;1.7.5 in central\n",
      ":: resolution report :: resolve 588ms :: artifacts dl 12ms\n",
      "\t:: modules in use:\n",
      "\tcom.amazon.deequ#deequ;1.2.2-spark-3.0 from central in [default]\n",
      "\tcom.chuusai#shapeless_2.12;2.3.2 from central in [default]\n",
      "\tcom.github.fommil.netlib#core;1.1.2 from central in [default]\n",
      "\tcom.github.rwl#jtransforms;2.4.0 from central in [default]\n",
      "\tjunit#junit;4.8.2 from central in [default]\n",
      "\tnet.sf.opencsv#opencsv;2.3 from central in [default]\n",
      "\torg.apache.commons#commons-math3;3.2 from central in [default]\n",
      "\torg.scala-lang#scala-reflect;2.12.1 from central in [default]\n",
      "\torg.scalanlp#breeze-macros_2.12;0.13.2 from central in [default]\n",
      "\torg.scalanlp#breeze_2.12;0.13.2 from central in [default]\n",
      "\torg.slf4j#slf4j-api;1.7.5 from central in [default]\n",
      "\torg.spire-math#spire-macros_2.12;0.13.0 from central in [default]\n",
      "\torg.spire-math#spire_2.12;0.13.0 from central in [default]\n",
      "\torg.typelevel#machinist_2.12;0.6.1 from central in [default]\n",
      "\torg.typelevel#macro-compat_2.12;1.1.1 from central in [default]\n",
      "\t:: evicted modules:\n",
      "\torg.scala-lang#scala-reflect;2.12.0 by [org.scala-lang#scala-reflect;2.12.1] in [default]\n",
      "\t---------------------------------------------------------------------\n",
      "\t|                  |            modules            ||   artifacts   |\n",
      "\t|       conf       | number| search|dwnlded|evicted|| number|dwnlded|\n",
      "\t---------------------------------------------------------------------\n",
      "\t|      default     |   16  |   0   |   0   |   1   ||   15  |   0   |\n",
      "\t---------------------------------------------------------------------\n",
      ":: retrieving :: org.apache.spark#spark-submit-parent-bf2b66c2-95e8-499e-8880-a8715388ff91\n",
      "\tconfs: [default]\n",
      "\t0 artifacts copied, 15 already retrieved (0kB/11ms)\n",
      "21/12/18 14:50:39 WARN NativeCodeLoader: Unable to load native-hadoop library for your platform... using builtin-java classes where applicable\n",
      "Using Spark's default log4j profile: org/apache/spark/log4j-defaults.properties\n",
      "Setting default log level to \"WARN\".\n",
      "To adjust logging level use sc.setLogLevel(newLevel). For SparkR, use setLogLevel(newLevel).\n"
     ]
    }
   ],
   "source": [
    "spark = SparkSession\\\n",
    "    .builder\\\n",
    "    .config(\"spark.jars.packages\", pydeequ.deequ_maven_coord)\\\n",
    "    .config(\"spark.jars.excludes\", pydeequ.f2j_maven_coord)\\\n",
    "    .getOrCreate()"
   ]
  },
  {
   "cell_type": "code",
   "execution_count": 5,
   "metadata": {},
   "outputs": [
    {
     "name": "stderr",
     "output_type": "stream",
     "text": [
      "                                                                                \r"
     ]
    }
   ],
   "source": [
    "df = spark.read.parquet(\"shop-clients.parquet\")"
   ]
  },
  {
   "cell_type": "code",
   "execution_count": 6,
   "metadata": {},
   "outputs": [
    {
     "name": "stdout",
     "output_type": "stream",
     "text": [
      "+--------------------+------+----------+----------+-----------+------------+---+------------+---------------+\n",
      "|                  id|   sex|      name|   surname|second_name|passport_num|age|total_orders|           city|\n",
      "+--------------------+------+----------+----------+-----------+------------+---+------------+---------------+\n",
      "|0002baa3306b48f99...|female|      Соня|  Ермолова|  Сергеевич|  7070177511| 21|          23|         Липецк|\n",
      "|00070f3a44b24c5da...|  male|  Анатолий|    Марков|Анатольевич|  8914742901| 22|          34|Санкт-Петербург|\n",
      "|000c3230d39040749...|  male|     Павел|    Марков| Кириллович|  3800229978| 69|          45|           Омск|\n",
      "|00160cd13a3047aaa...|female|Александра|  Дроздова| Кириллович|  6699696036| 48|          75|           Омск|\n",
      "|00264b9c03c24d82a...|female|       Яна|  Равдеева|   Павлович|  5443568581| 46|          92|         Москва|\n",
      "|0026f92043174b488...|female| Екатерина|    Дубина|   Олегович|  7731771480| 61|          69|       Новгород|\n",
      "|00293705f1064490a...|female|      Алла|  Дроздова|   Олегович|  6870766131| 71|          93|         Москва|\n",
      "|002ee035d9d344729...|  male|    Сергей|  Андропов| Дмитриевич|  6022142935| 55|          35|        Воронеж|\n",
      "|00407f7c150942548...|female|     Дарья|  Равдеева| Дмитриевич|  8514458437| 48|          64|         Москва|\n",
      "|00456600cec64ef49...|female|  Виктория|   Жмурина|  Денисович|  2185250116| 21|          46|         Казань|\n",
      "|004b0a6930c4432db...|  male|   Дмитрий|  Свиридов|  Денисович|  4525230004| 49|          14|           Тула|\n",
      "|00583a55f4874ca1a...|  male|     Денис| Коновалов| Кириллович|  4203119097| 27|          21|          Тверь|\n",
      "|005a07bbc5d44d1c9...|female|     Дарья|   Жмурина|  Денисович|  4127441910| 65|          31|         Липецк|\n",
      "|0060c7f62fcf43a69...|female|     Ольга|    Кирова| Максимович|  1532529212| 73|          11|          Томск|\n",
      "|006bcd6c8b1a47b29...|  male|      Иван|Акульченко| Викторович|  5464246177| 32|          98|Санкт-Петербург|\n",
      "|006e8416fc284232b...|female| Екатерина|  Кутузова|   Павлович|  6998786413| 52|           9|          Томск|\n",
      "|007becc2dcde4096b...|  male|    Максим|  Свиридов|   Иванович|  6634231039| 37|          46|         Казань|\n",
      "|0094065e055847118...|female|     Ольга|   Прошина|   Иванович|  3274871221| 33|           3|         Москва|\n",
      "|009f4dd832534fcbb...|  male|      Олег|   Остапов| Максимович|  7541251930| 67|          13|Санкт-Петербург|\n",
      "|00aba076028743eaa...|  male|   Дмитрий|    Марков| Максимович|  8351419654| 69|          16|         Казань|\n",
      "+--------------------+------+----------+----------+-----------+------------+---+------------+---------------+\n",
      "only showing top 20 rows\n",
      "\n"
     ]
    }
   ],
   "source": [
    "df.show()"
   ]
  },
  {
   "cell_type": "code",
   "execution_count": 7,
   "metadata": {},
   "outputs": [
    {
     "name": "stdout",
     "output_type": "stream",
     "text": [
      "root\n",
      " |-- id: string (nullable = true)\n",
      " |-- sex: string (nullable = true)\n",
      " |-- name: string (nullable = true)\n",
      " |-- surname: string (nullable = true)\n",
      " |-- second_name: string (nullable = true)\n",
      " |-- passport_num: long (nullable = true)\n",
      " |-- age: integer (nullable = true)\n",
      " |-- total_orders: integer (nullable = true)\n",
      " |-- city: string (nullable = true)\n",
      "\n"
     ]
    }
   ],
   "source": [
    "df.printSchema()"
   ]
  },
  {
   "cell_type": "markdown",
   "metadata": {},
   "source": [
    "# Analyzer"
   ]
  },
  {
   "cell_type": "code",
   "execution_count": 8,
   "metadata": {},
   "outputs": [
    {
     "name": "stdout",
     "output_type": "stream",
     "text": [
      "+-------+------------------+------------+-------+\n",
      "| entity|          instance|        name|  value|\n",
      "+-------+------------------+------------+-------+\n",
      "| Column|              city|Completeness| 0.9985|\n",
      "| Column|      passport_num|Completeness|  0.999|\n",
      "| Column|orders less than 0|  Compliance| 7.5E-4|\n",
      "| Column|   age less than 0|  Compliance|    0.0|\n",
      "| Column|       second_name|Completeness| 0.9995|\n",
      "|Dataset|                 *|        Size|20000.0|\n",
      "| Column|              name|Completeness|    1.0|\n",
      "| Column|           surname|Completeness|    1.0|\n",
      "| Column|age great than 100|  Compliance|  0.001|\n",
      "+-------+------------------+------------+-------+\n",
      "\n"
     ]
    }
   ],
   "source": [
    "from pydeequ.analyzers import *\n",
    "\n",
    "analyzer = AnalysisRunner(spark) \\\n",
    "                    .onData(df) \\\n",
    "                    .addAnalyzer(Size()) \\\n",
    "                    .addAnalyzer(Completeness(\"name\")) \\\n",
    "                    .addAnalyzer(Completeness(\"surname\")) \\\n",
    "                    .addAnalyzer(Completeness(\"second_name\")) \\\n",
    "                    .addAnalyzer(Completeness(\"passport_num\")) \\\n",
    "                    .addAnalyzer(Completeness(\"city\")) \\\n",
    "                    .addAnalyzer(Compliance(\"age less than 0\", 'age<0')) \\\n",
    "                    .addAnalyzer(Compliance(\"age great than 100\", 'age>100')) \\\n",
    "                    .addAnalyzer(Compliance(\"orders less than 0\", 'total_orders<0')) \\\n",
    "                    .run()\n",
    "                    \n",
    "analysisResult_df = AnalyzerContext.successMetricsAsDataFrame(spark, analyzer)\n",
    "analysisResult_df.show()"
   ]
  },
  {
   "cell_type": "markdown",
   "metadata": {},
   "source": [
    "# Constraint Verification"
   ]
  },
  {
   "cell_type": "code",
   "execution_count": 9,
   "metadata": {},
   "outputs": [
    {
     "name": "stdout",
     "output_type": "stream",
     "text": [
      "Python Callback server started!\n"
     ]
    }
   ],
   "source": [
    "check_age = Check(spark, CheckLevel.Warning, \"Users Age Check\")\\\n",
    "        .hasMax(\"age\", lambda x: x <= 100.0)  \\\n",
    "        .isNonNegative(\"age\") \\\n",
    "        .isComplete(\"age\")\n",
    "check_fio = Check(spark, CheckLevel.Warning, \"Users FIO Check\")\\\n",
    "        .isComplete(\"name\") \\\n",
    "        .isComplete(\"surname\") \\\n",
    "        .isComplete(\"second_name\")\n",
    "check_sex = Check(spark, CheckLevel.Warning, \"Users Sex Check\")\\\n",
    "        .isContainedIn(\"sex\", [\"male\", \"female\"])\n",
    "check_dataset = Check(spark, CheckLevel.Error, \"Users Dataset Check\")\\\n",
    "        .hasSize(lambda x: x >= 20000)\\\n",
    "        .isUnique(\"id\")"
   ]
  },
  {
   "cell_type": "code",
   "execution_count": 10,
   "metadata": {},
   "outputs": [
    {
     "name": "stderr",
     "output_type": "stream",
     "text": [
      "                                                                                \r"
     ]
    },
    {
     "data": {
      "text/html": [
       "<div>\n",
       "<style scoped>\n",
       "    .dataframe tbody tr th:only-of-type {\n",
       "        vertical-align: middle;\n",
       "    }\n",
       "\n",
       "    .dataframe tbody tr th {\n",
       "        vertical-align: top;\n",
       "    }\n",
       "\n",
       "    .dataframe thead th {\n",
       "        text-align: right;\n",
       "    }\n",
       "</style>\n",
       "<table border=\"1\" class=\"dataframe\">\n",
       "  <thead>\n",
       "    <tr style=\"text-align: right;\">\n",
       "      <th></th>\n",
       "      <th>check</th>\n",
       "      <th>check_level</th>\n",
       "      <th>check_status</th>\n",
       "      <th>constraint</th>\n",
       "      <th>constraint_status</th>\n",
       "      <th>constraint_message</th>\n",
       "    </tr>\n",
       "  </thead>\n",
       "  <tbody>\n",
       "    <tr>\n",
       "      <th>0</th>\n",
       "      <td>Users Age Check</td>\n",
       "      <td>Warning</td>\n",
       "      <td>Warning</td>\n",
       "      <td>MaximumConstraint(Maximum(age,None))</td>\n",
       "      <td>Failure</td>\n",
       "      <td>Value: 18798.0 does not meet the constraint re...</td>\n",
       "    </tr>\n",
       "    <tr>\n",
       "      <th>1</th>\n",
       "      <td>Users Age Check</td>\n",
       "      <td>Warning</td>\n",
       "      <td>Warning</td>\n",
       "      <td>ComplianceConstraint(Compliance(age is non-neg...</td>\n",
       "      <td>Success</td>\n",
       "      <td></td>\n",
       "    </tr>\n",
       "    <tr>\n",
       "      <th>2</th>\n",
       "      <td>Users Age Check</td>\n",
       "      <td>Warning</td>\n",
       "      <td>Warning</td>\n",
       "      <td>CompletenessConstraint(Completeness(age,None))</td>\n",
       "      <td>Success</td>\n",
       "      <td></td>\n",
       "    </tr>\n",
       "    <tr>\n",
       "      <th>3</th>\n",
       "      <td>Users FIO Check</td>\n",
       "      <td>Warning</td>\n",
       "      <td>Warning</td>\n",
       "      <td>CompletenessConstraint(Completeness(name,None))</td>\n",
       "      <td>Success</td>\n",
       "      <td></td>\n",
       "    </tr>\n",
       "    <tr>\n",
       "      <th>4</th>\n",
       "      <td>Users FIO Check</td>\n",
       "      <td>Warning</td>\n",
       "      <td>Warning</td>\n",
       "      <td>CompletenessConstraint(Completeness(surname,No...</td>\n",
       "      <td>Success</td>\n",
       "      <td></td>\n",
       "    </tr>\n",
       "    <tr>\n",
       "      <th>5</th>\n",
       "      <td>Users FIO Check</td>\n",
       "      <td>Warning</td>\n",
       "      <td>Warning</td>\n",
       "      <td>CompletenessConstraint(Completeness(second_nam...</td>\n",
       "      <td>Failure</td>\n",
       "      <td>Value: 0.9995 does not meet the constraint req...</td>\n",
       "    </tr>\n",
       "    <tr>\n",
       "      <th>6</th>\n",
       "      <td>Users Sex Check</td>\n",
       "      <td>Warning</td>\n",
       "      <td>Success</td>\n",
       "      <td>ComplianceConstraint(Compliance(sex contained ...</td>\n",
       "      <td>Success</td>\n",
       "      <td></td>\n",
       "    </tr>\n",
       "    <tr>\n",
       "      <th>7</th>\n",
       "      <td>Users Dataset Check</td>\n",
       "      <td>Error</td>\n",
       "      <td>Success</td>\n",
       "      <td>SizeConstraint(Size(None))</td>\n",
       "      <td>Success</td>\n",
       "      <td></td>\n",
       "    </tr>\n",
       "    <tr>\n",
       "      <th>8</th>\n",
       "      <td>Users Dataset Check</td>\n",
       "      <td>Error</td>\n",
       "      <td>Success</td>\n",
       "      <td>UniquenessConstraint(Uniqueness(List(id),None))</td>\n",
       "      <td>Success</td>\n",
       "      <td></td>\n",
       "    </tr>\n",
       "  </tbody>\n",
       "</table>\n",
       "</div>"
      ],
      "text/plain": [
       "                 check check_level check_status  \\\n",
       "0      Users Age Check     Warning      Warning   \n",
       "1      Users Age Check     Warning      Warning   \n",
       "2      Users Age Check     Warning      Warning   \n",
       "3      Users FIO Check     Warning      Warning   \n",
       "4      Users FIO Check     Warning      Warning   \n",
       "5      Users FIO Check     Warning      Warning   \n",
       "6      Users Sex Check     Warning      Success   \n",
       "7  Users Dataset Check       Error      Success   \n",
       "8  Users Dataset Check       Error      Success   \n",
       "\n",
       "                                          constraint constraint_status  \\\n",
       "0               MaximumConstraint(Maximum(age,None))           Failure   \n",
       "1  ComplianceConstraint(Compliance(age is non-neg...           Success   \n",
       "2     CompletenessConstraint(Completeness(age,None))           Success   \n",
       "3    CompletenessConstraint(Completeness(name,None))           Success   \n",
       "4  CompletenessConstraint(Completeness(surname,No...           Success   \n",
       "5  CompletenessConstraint(Completeness(second_nam...           Failure   \n",
       "6  ComplianceConstraint(Compliance(sex contained ...           Success   \n",
       "7                         SizeConstraint(Size(None))           Success   \n",
       "8    UniquenessConstraint(Uniqueness(List(id),None))           Success   \n",
       "\n",
       "                                  constraint_message  \n",
       "0  Value: 18798.0 does not meet the constraint re...  \n",
       "1                                                     \n",
       "2                                                     \n",
       "3                                                     \n",
       "4                                                     \n",
       "5  Value: 0.9995 does not meet the constraint req...  \n",
       "6                                                     \n",
       "7                                                     \n",
       "8                                                     "
      ]
     },
     "execution_count": 10,
     "metadata": {},
     "output_type": "execute_result"
    }
   ],
   "source": [
    "checkResult = VerificationSuite(spark) \\\n",
    "    .onData(df) \\\n",
    "    .addCheck(check_age) \\\n",
    "    .addCheck(check_fio) \\\n",
    "    .addCheck(check_sex) \\\n",
    "    .addCheck(check_dataset) \\\n",
    "    .run()\n",
    "    \n",
    "checkResult_df = VerificationResult.checkResultsAsDataFrame(spark, checkResult)\n",
    "checkResult_df.toPandas().head(20)"
   ]
  },
  {
   "cell_type": "code",
   "execution_count": 11,
   "metadata": {},
   "outputs": [
    {
     "data": {
      "text/html": [
       "<div>\n",
       "<style scoped>\n",
       "    .dataframe tbody tr th:only-of-type {\n",
       "        vertical-align: middle;\n",
       "    }\n",
       "\n",
       "    .dataframe tbody tr th {\n",
       "        vertical-align: top;\n",
       "    }\n",
       "\n",
       "    .dataframe thead th {\n",
       "        text-align: right;\n",
       "    }\n",
       "</style>\n",
       "<table border=\"1\" class=\"dataframe\">\n",
       "  <thead>\n",
       "    <tr style=\"text-align: right;\">\n",
       "      <th></th>\n",
       "      <th>entity</th>\n",
       "      <th>instance</th>\n",
       "      <th>name</th>\n",
       "      <th>value</th>\n",
       "    </tr>\n",
       "  </thead>\n",
       "  <tbody>\n",
       "    <tr>\n",
       "      <th>0</th>\n",
       "      <td>Column</td>\n",
       "      <td>age is non-negative</td>\n",
       "      <td>Compliance</td>\n",
       "      <td>1.0000</td>\n",
       "    </tr>\n",
       "    <tr>\n",
       "      <th>1</th>\n",
       "      <td>Column</td>\n",
       "      <td>second_name</td>\n",
       "      <td>Completeness</td>\n",
       "      <td>0.9995</td>\n",
       "    </tr>\n",
       "    <tr>\n",
       "      <th>2</th>\n",
       "      <td>Column</td>\n",
       "      <td>sex contained in male,female</td>\n",
       "      <td>Compliance</td>\n",
       "      <td>1.0000</td>\n",
       "    </tr>\n",
       "    <tr>\n",
       "      <th>3</th>\n",
       "      <td>Dataset</td>\n",
       "      <td>*</td>\n",
       "      <td>Size</td>\n",
       "      <td>20000.0000</td>\n",
       "    </tr>\n",
       "    <tr>\n",
       "      <th>4</th>\n",
       "      <td>Column</td>\n",
       "      <td>id</td>\n",
       "      <td>Uniqueness</td>\n",
       "      <td>1.0000</td>\n",
       "    </tr>\n",
       "    <tr>\n",
       "      <th>5</th>\n",
       "      <td>Column</td>\n",
       "      <td>name</td>\n",
       "      <td>Completeness</td>\n",
       "      <td>1.0000</td>\n",
       "    </tr>\n",
       "    <tr>\n",
       "      <th>6</th>\n",
       "      <td>Column</td>\n",
       "      <td>surname</td>\n",
       "      <td>Completeness</td>\n",
       "      <td>1.0000</td>\n",
       "    </tr>\n",
       "    <tr>\n",
       "      <th>7</th>\n",
       "      <td>Column</td>\n",
       "      <td>age</td>\n",
       "      <td>Maximum</td>\n",
       "      <td>18798.0000</td>\n",
       "    </tr>\n",
       "    <tr>\n",
       "      <th>8</th>\n",
       "      <td>Column</td>\n",
       "      <td>age</td>\n",
       "      <td>Completeness</td>\n",
       "      <td>1.0000</td>\n",
       "    </tr>\n",
       "  </tbody>\n",
       "</table>\n",
       "</div>"
      ],
      "text/plain": [
       "    entity                      instance          name       value\n",
       "0   Column           age is non-negative    Compliance      1.0000\n",
       "1   Column                   second_name  Completeness      0.9995\n",
       "2   Column  sex contained in male,female    Compliance      1.0000\n",
       "3  Dataset                             *          Size  20000.0000\n",
       "4   Column                            id    Uniqueness      1.0000\n",
       "5   Column                          name  Completeness      1.0000\n",
       "6   Column                       surname  Completeness      1.0000\n",
       "7   Column                           age       Maximum  18798.0000\n",
       "8   Column                           age  Completeness      1.0000"
      ]
     },
     "execution_count": 11,
     "metadata": {},
     "output_type": "execute_result"
    }
   ],
   "source": [
    "VerificationResult.successMetricsAsDataFrame(spark, checkResult).toPandas().head(20)"
   ]
  },
  {
   "cell_type": "code",
   "execution_count": null,
   "metadata": {},
   "outputs": [],
   "source": []
  }
 ],
 "metadata": {
  "kernelspec": {
   "display_name": "Python 3",
   "language": "python",
   "name": "python3"
  },
  "language_info": {
   "codemirror_mode": {
    "name": "ipython",
    "version": 3
   },
   "file_extension": ".py",
   "mimetype": "text/x-python",
   "name": "python",
   "nbconvert_exporter": "python",
   "pygments_lexer": "ipython3",
   "version": "3.7.6"
  }
 },
 "nbformat": 4,
 "nbformat_minor": 5
}
