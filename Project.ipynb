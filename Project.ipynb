{
 "cells": [
  {
   "cell_type": "markdown",
   "metadata": {},
   "source": [
    "# Project: DEEQU for DATA QUALITY"
   ]
  },
  {
   "cell_type": "markdown",
   "metadata": {},
   "source": [
    "From an external source system you are supplied with data about available shoe products.\n",
    "Using the capabilities of pydeequ, develop a data analysis task."
   ]
  },
  {
   "cell_type": "markdown",
   "metadata": {},
   "source": [
    "**Dataset Structure**\n",
    "\n",
    "| Name | Description |\n",
    "| -- | -- |\n",
    "| id | Unique object identifier |\n",
    "| vendor_code | Unique position (product) identifier |\n",
    "| name | Model name |\n",
    "| type | Type of model |\n",
    "| label | Brand |\n",
    "| price | Price ($) | \n",
    "| discount | Discount in percents [0-100] |\n",
    "| available_count | Quantity available in stock |\n",
    "| preorder_count | Quantity of preorders |"
   ]
  },
  {
   "cell_type": "markdown",
   "metadata": {},
   "source": [
    "**Analyze the following conditions:**\n",
    "\n",
    "1. The size of the dataset\n",
    "2. Completeness of all columns (x9)\n",
    "3. Uniqueness of the id\n",
    "4. Are there any records with a discount less than 0\n",
    "5. Records with a discount of more than 100 are present\n",
    "6. Are records present with available quantity in stock less than 0\n",
    "7. Are there records with a quantity of pre-orders less than 0\n",
    "\n",
    "The report must contain a total of 15 conditions.\n"
   ]
  },
  {
   "cell_type": "code",
   "execution_count": 1,
   "metadata": {},
   "outputs": [],
   "source": [
    "import os\n",
    "os.environ['SPARK_VERSION'] = '3.1'"
   ]
  },
  {
   "cell_type": "code",
   "execution_count": 2,
   "metadata": {},
   "outputs": [
    {
     "name": "stderr",
     "output_type": "stream",
     "text": [
      "Deequ is still not supported in spark version: 3.1\n"
     ]
    }
   ],
   "source": [
    "import pydeequ\n",
    "from pydeequ.profiles import *\n",
    "from pydeequ.checks import *\n",
    "from pydeequ.verification import *\n",
    "from pyspark.sql import functions as F\n",
    "from pyspark.sql import SparkSession"
   ]
  },
  {
   "cell_type": "code",
   "execution_count": 3,
   "metadata": {},
   "outputs": [],
   "source": [
    "spark = SparkSession\\\n",
    "    .builder\\\n",
    "    .config(\"spark.jars.packages\", pydeequ.deequ_maven_coord)\\\n",
    "    .config(\"spark.jars.excludes\", pydeequ.f2j_maven_coord)\\\n",
    "    .getOrCreate()"
   ]
  },
  {
   "cell_type": "code",
   "execution_count": 4,
   "metadata": {},
   "outputs": [],
   "source": [
    "df = spark.read.parquet(\"data.parquet\")"
   ]
  },
  {
   "cell_type": "code",
   "execution_count": 5,
   "metadata": {},
   "outputs": [
    {
     "name": "stdout",
     "output_type": "stream",
     "text": [
      "+--------------------+--------------------+------------------+----------------+----------+------+--------+---------------+--------------+\n",
      "|                  id|         vendor_code|              name|            type|     label| price|discount|available_count|preorder_count|\n",
      "+--------------------+--------------------+------------------+----------------+----------+------+--------+---------------+--------------+\n",
      "|0000a2a47fdf45438...|695aae461072410ab...|   Timberland Perf| Casual Sneakers|Timberland|201.99|    10.0|             45|           114|\n",
      "|000b82e2782f44749...|c2b987df97fb4160a...|     Vans High-Top|Basketball shoes|      Vans|558.99|    10.0|             62|           106|\n",
      "|0010c9bde5454bddb...|be0bf295383a41098...|           CAT 327| Casual Sneakers|       CAT|535.99|    30.0|            139|           148|\n",
      "|00144c94d03c44538...|4a6b746de6714c99b...|          Nike SS1| Casual Sneakers|      Nike|470.99|     0.0|            109|            36|\n",
      "|00148575ec5f42a1b...|39416c08b65f4a0fb...|Addidas Cilia Mode|Basketball shoes|   Addidas|518.99|    10.0|             21|            94|\n",
      "|0014cf531bfd40b0b...|c353572b2d164d0f8...|     Florsheim SS1|Fitness sneakers| Florsheim|454.99|    20.0|            122|            41|\n",
      "|0015a3056d144c319...|19915301a72b45b0b...|           Vans RS|Fitness sneakers|      Vans|333.99|    30.0|             21|            96|\n",
      "|00168c1d3f8440f08...|2e1fe6b275ca41229...|      Converse 327|   Running shoes|  Converse|155.99|    20.0|            140|           148|\n",
      "|001d68f5b2c043789...|c9c8c2febb5b44f59...|Crocs Tiger Runner|Fitness sneakers|     Crocs|148.99|    10.0|            108|            57|\n",
      "|002c88ef26334c76b...|93bcb7d87f194cceb...|Florsheim High-Top|Fitness sneakers| Florsheim|108.99|    30.0|             36|           144|\n",
      "+--------------------+--------------------+------------------+----------------+----------+------+--------+---------------+--------------+\n",
      "only showing top 10 rows\n",
      "\n"
     ]
    }
   ],
   "source": [
    "df.show(10)"
   ]
  },
  {
   "cell_type": "code",
   "execution_count": 6,
   "metadata": {},
   "outputs": [
    {
     "name": "stdout",
     "output_type": "stream",
     "text": [
      "root\n",
      " |-- id: string (nullable = true)\n",
      " |-- vendor_code: string (nullable = true)\n",
      " |-- name: string (nullable = true)\n",
      " |-- type: string (nullable = true)\n",
      " |-- label: string (nullable = true)\n",
      " |-- price: double (nullable = true)\n",
      " |-- discount: double (nullable = true)\n",
      " |-- available_count: integer (nullable = true)\n",
      " |-- preorder_count: integer (nullable = true)\n",
      "\n"
     ]
    }
   ],
   "source": [
    "df.printSchema()"
   ]
  },
  {
   "cell_type": "markdown",
   "metadata": {},
   "source": [
    "## Analyzer"
   ]
  },
  {
   "cell_type": "code",
   "execution_count": 7,
   "metadata": {},
   "outputs": [
    {
     "name": "stdout",
     "output_type": "stream",
     "text": [
      "+-------+--------------------+------------+--------+\n",
      "| entity|            instance|        name|   value|\n",
      "+-------+--------------------+------------+--------+\n",
      "| Column|discount great th...|  Compliance|     0.0|\n",
      "| Column|         vendor_code|Completeness|     0.9|\n",
      "| Column|available quantit...|  Compliance|   0.001|\n",
      "| Column|               label|Completeness|     1.0|\n",
      "| Column|discount less than 0|  Compliance|  3.5E-4|\n",
      "| Column|     available_count|Completeness|     1.0|\n",
      "| Column|            discount|Completeness|     1.0|\n",
      "| Column|                type|Completeness|    0.95|\n",
      "| Column|      preorder_count|Completeness|     1.0|\n",
      "| Column|               price|Completeness|    0.97|\n",
      "|Dataset|                   *|        Size|100000.0|\n",
      "| Column|                  id|Completeness|     1.0|\n",
      "| Column|                name|Completeness|     1.0|\n",
      "| Column|quantity of pre-o...|  Compliance|     0.0|\n",
      "+-------+--------------------+------------+--------+\n",
      "\n"
     ]
    }
   ],
   "source": [
    "from pydeequ.analyzers import *\n",
    "\n",
    "analyzer = AnalysisRunner(spark) \\\n",
    "                    .onData(df) \\\n",
    "                    .addAnalyzer(Size()) \\\n",
    "                    .addAnalyzer(Completeness(\"id\")) \\\n",
    "                    .addAnalyzer(Completeness(\"vendor_code\")) \\\n",
    "                    .addAnalyzer(Completeness(\"name\")) \\\n",
    "                    .addAnalyzer(Completeness(\"type\")) \\\n",
    "                    .addAnalyzer(Completeness(\"label\")) \\\n",
    "                    .addAnalyzer(Completeness(\"price\")) \\\n",
    "                    .addAnalyzer(Completeness(\"discount\")) \\\n",
    "                    .addAnalyzer(Completeness(\"available_count\")) \\\n",
    "                    .addAnalyzer(Completeness(\"preorder_count\")) \\\n",
    "                    .addAnalyzer(Compliance(\"discount less than 0\", 'discount<0')) \\\n",
    "                    .addAnalyzer(Compliance(\"discount great than 100\", 'discount>100')) \\\n",
    "                    .addAnalyzer(Compliance(\"available quantity in stock less than 0\", 'available_count<0')) \\\n",
    "                    .addAnalyzer(Compliance(\"quantity of pre-orders less than 0\", 'preorder_count<0')) \\\n",
    "                    .run()\n",
    "                    \n",
    "analysisResult_df = AnalyzerContext.successMetricsAsDataFrame(spark, analyzer)\n",
    "analysisResult_df.show()"
   ]
  },
  {
   "cell_type": "markdown",
   "metadata": {},
   "source": [
    "## Constraint Verification"
   ]
  },
  {
   "cell_type": "code",
   "execution_count": 8,
   "metadata": {},
   "outputs": [
    {
     "name": "stdout",
     "output_type": "stream",
     "text": [
      "Python Callback server started!\n"
     ]
    }
   ],
   "source": [
    "check_discount = Check(spark, CheckLevel.Warning, \"Discount Check\")\\\n",
    "        .hasMax(\"discount\", lambda x: x <= 100.0)  \\\n",
    "        .isNonNegative(\"discount\") \\\n",
    "        .isComplete(\"discount\")\n",
    "check_available_count = Check(spark, CheckLevel.Warning, \"Available Count Check\")\\\n",
    "        .isNonNegative(\"available_count\") \\\n",
    "        .isComplete(\"available_count\") \n",
    "check_preorder_count = Check(spark, CheckLevel.Warning, \"Preorder Count Check\")\\\n",
    "        .isNonNegative(\"preorder_count\")\n",
    "check_id = Check(spark, CheckLevel.Error, \"Id Unickness Check\")\\\n",
    "        .isUnique(\"id\")\n",
    "check_dataset = Check(spark, CheckLevel.Error, \"Dataset Check\")\\\n",
    "        .hasSize(lambda x: x >= 20000)"
   ]
  },
  {
   "cell_type": "code",
   "execution_count": 9,
   "metadata": {},
   "outputs": [
    {
     "data": {
      "text/html": [
       "<div>\n",
       "<style scoped>\n",
       "    .dataframe tbody tr th:only-of-type {\n",
       "        vertical-align: middle;\n",
       "    }\n",
       "\n",
       "    .dataframe tbody tr th {\n",
       "        vertical-align: top;\n",
       "    }\n",
       "\n",
       "    .dataframe thead th {\n",
       "        text-align: right;\n",
       "    }\n",
       "</style>\n",
       "<table border=\"1\" class=\"dataframe\">\n",
       "  <thead>\n",
       "    <tr style=\"text-align: right;\">\n",
       "      <th></th>\n",
       "      <th>check</th>\n",
       "      <th>check_level</th>\n",
       "      <th>check_status</th>\n",
       "      <th>constraint</th>\n",
       "      <th>constraint_status</th>\n",
       "      <th>constraint_message</th>\n",
       "    </tr>\n",
       "  </thead>\n",
       "  <tbody>\n",
       "    <tr>\n",
       "      <th>0</th>\n",
       "      <td>Preorder Count Check</td>\n",
       "      <td>Warning</td>\n",
       "      <td>Success</td>\n",
       "      <td>ComplianceConstraint(Compliance(preorder_count...</td>\n",
       "      <td>Success</td>\n",
       "      <td></td>\n",
       "    </tr>\n",
       "    <tr>\n",
       "      <th>1</th>\n",
       "      <td>Dataset Check</td>\n",
       "      <td>Error</td>\n",
       "      <td>Success</td>\n",
       "      <td>SizeConstraint(Size(None))</td>\n",
       "      <td>Success</td>\n",
       "      <td></td>\n",
       "    </tr>\n",
       "    <tr>\n",
       "      <th>2</th>\n",
       "      <td>Discount Check</td>\n",
       "      <td>Warning</td>\n",
       "      <td>Warning</td>\n",
       "      <td>MaximumConstraint(Maximum(discount,None))</td>\n",
       "      <td>Success</td>\n",
       "      <td></td>\n",
       "    </tr>\n",
       "    <tr>\n",
       "      <th>3</th>\n",
       "      <td>Discount Check</td>\n",
       "      <td>Warning</td>\n",
       "      <td>Warning</td>\n",
       "      <td>ComplianceConstraint(Compliance(discount is no...</td>\n",
       "      <td>Failure</td>\n",
       "      <td>Value: 0.99965 does not meet the constraint re...</td>\n",
       "    </tr>\n",
       "    <tr>\n",
       "      <th>4</th>\n",
       "      <td>Discount Check</td>\n",
       "      <td>Warning</td>\n",
       "      <td>Warning</td>\n",
       "      <td>CompletenessConstraint(Completeness(discount,N...</td>\n",
       "      <td>Success</td>\n",
       "      <td></td>\n",
       "    </tr>\n",
       "    <tr>\n",
       "      <th>5</th>\n",
       "      <td>Available Count Check</td>\n",
       "      <td>Warning</td>\n",
       "      <td>Warning</td>\n",
       "      <td>ComplianceConstraint(Compliance(available_coun...</td>\n",
       "      <td>Failure</td>\n",
       "      <td>Value: 0.999 does not meet the constraint requ...</td>\n",
       "    </tr>\n",
       "    <tr>\n",
       "      <th>6</th>\n",
       "      <td>Available Count Check</td>\n",
       "      <td>Warning</td>\n",
       "      <td>Warning</td>\n",
       "      <td>CompletenessConstraint(Completeness(available_...</td>\n",
       "      <td>Success</td>\n",
       "      <td></td>\n",
       "    </tr>\n",
       "    <tr>\n",
       "      <th>7</th>\n",
       "      <td>Id Unickness Check</td>\n",
       "      <td>Error</td>\n",
       "      <td>Success</td>\n",
       "      <td>UniquenessConstraint(Uniqueness(List(id),None))</td>\n",
       "      <td>Success</td>\n",
       "      <td></td>\n",
       "    </tr>\n",
       "  </tbody>\n",
       "</table>\n",
       "</div>"
      ],
      "text/plain": [
       "                   check check_level check_status  \\\n",
       "0   Preorder Count Check     Warning      Success   \n",
       "1          Dataset Check       Error      Success   \n",
       "2         Discount Check     Warning      Warning   \n",
       "3         Discount Check     Warning      Warning   \n",
       "4         Discount Check     Warning      Warning   \n",
       "5  Available Count Check     Warning      Warning   \n",
       "6  Available Count Check     Warning      Warning   \n",
       "7     Id Unickness Check       Error      Success   \n",
       "\n",
       "                                          constraint constraint_status  \\\n",
       "0  ComplianceConstraint(Compliance(preorder_count...           Success   \n",
       "1                         SizeConstraint(Size(None))           Success   \n",
       "2          MaximumConstraint(Maximum(discount,None))           Success   \n",
       "3  ComplianceConstraint(Compliance(discount is no...           Failure   \n",
       "4  CompletenessConstraint(Completeness(discount,N...           Success   \n",
       "5  ComplianceConstraint(Compliance(available_coun...           Failure   \n",
       "6  CompletenessConstraint(Completeness(available_...           Success   \n",
       "7    UniquenessConstraint(Uniqueness(List(id),None))           Success   \n",
       "\n",
       "                                  constraint_message  \n",
       "0                                                     \n",
       "1                                                     \n",
       "2                                                     \n",
       "3  Value: 0.99965 does not meet the constraint re...  \n",
       "4                                                     \n",
       "5  Value: 0.999 does not meet the constraint requ...  \n",
       "6                                                     \n",
       "7                                                     "
      ]
     },
     "execution_count": 9,
     "metadata": {},
     "output_type": "execute_result"
    }
   ],
   "source": [
    "checkResult = VerificationSuite(spark) \\\n",
    "    .onData(df) \\\n",
    "    .addCheck(check_discount) \\\n",
    "    .addCheck(check_available_count) \\\n",
    "    .addCheck(check_preorder_count) \\\n",
    "    .addCheck(check_id) \\\n",
    "    .addCheck(check_dataset) \\\n",
    "    .run()\n",
    "    \n",
    "checkResult_df = VerificationResult.checkResultsAsDataFrame(spark, checkResult)\n",
    "checkResult_df.toPandas().head(20)"
   ]
  },
  {
   "cell_type": "code",
   "execution_count": 10,
   "metadata": {},
   "outputs": [
    {
     "data": {
      "text/html": [
       "<div>\n",
       "<style scoped>\n",
       "    .dataframe tbody tr th:only-of-type {\n",
       "        vertical-align: middle;\n",
       "    }\n",
       "\n",
       "    .dataframe tbody tr th {\n",
       "        vertical-align: top;\n",
       "    }\n",
       "\n",
       "    .dataframe thead th {\n",
       "        text-align: right;\n",
       "    }\n",
       "</style>\n",
       "<table border=\"1\" class=\"dataframe\">\n",
       "  <thead>\n",
       "    <tr style=\"text-align: right;\">\n",
       "      <th></th>\n",
       "      <th>entity</th>\n",
       "      <th>instance</th>\n",
       "      <th>name</th>\n",
       "      <th>value</th>\n",
       "    </tr>\n",
       "  </thead>\n",
       "  <tbody>\n",
       "    <tr>\n",
       "      <th>0</th>\n",
       "      <td>Column</td>\n",
       "      <td>available_count is non-negative</td>\n",
       "      <td>Compliance</td>\n",
       "      <td>0.99900</td>\n",
       "    </tr>\n",
       "    <tr>\n",
       "      <th>1</th>\n",
       "      <td>Column</td>\n",
       "      <td>available_count</td>\n",
       "      <td>Completeness</td>\n",
       "      <td>1.00000</td>\n",
       "    </tr>\n",
       "    <tr>\n",
       "      <th>2</th>\n",
       "      <td>Column</td>\n",
       "      <td>discount</td>\n",
       "      <td>Maximum</td>\n",
       "      <td>40.00000</td>\n",
       "    </tr>\n",
       "    <tr>\n",
       "      <th>3</th>\n",
       "      <td>Column</td>\n",
       "      <td>discount</td>\n",
       "      <td>Completeness</td>\n",
       "      <td>1.00000</td>\n",
       "    </tr>\n",
       "    <tr>\n",
       "      <th>4</th>\n",
       "      <td>Column</td>\n",
       "      <td>discount is non-negative</td>\n",
       "      <td>Compliance</td>\n",
       "      <td>0.99965</td>\n",
       "    </tr>\n",
       "    <tr>\n",
       "      <th>5</th>\n",
       "      <td>Column</td>\n",
       "      <td>preorder_count is non-negative</td>\n",
       "      <td>Compliance</td>\n",
       "      <td>1.00000</td>\n",
       "    </tr>\n",
       "    <tr>\n",
       "      <th>6</th>\n",
       "      <td>Dataset</td>\n",
       "      <td>*</td>\n",
       "      <td>Size</td>\n",
       "      <td>100000.00000</td>\n",
       "    </tr>\n",
       "    <tr>\n",
       "      <th>7</th>\n",
       "      <td>Column</td>\n",
       "      <td>id</td>\n",
       "      <td>Uniqueness</td>\n",
       "      <td>1.00000</td>\n",
       "    </tr>\n",
       "  </tbody>\n",
       "</table>\n",
       "</div>"
      ],
      "text/plain": [
       "    entity                         instance          name         value\n",
       "0   Column  available_count is non-negative    Compliance       0.99900\n",
       "1   Column                  available_count  Completeness       1.00000\n",
       "2   Column                         discount       Maximum      40.00000\n",
       "3   Column                         discount  Completeness       1.00000\n",
       "4   Column         discount is non-negative    Compliance       0.99965\n",
       "5   Column   preorder_count is non-negative    Compliance       1.00000\n",
       "6  Dataset                                *          Size  100000.00000\n",
       "7   Column                               id    Uniqueness       1.00000"
      ]
     },
     "execution_count": 10,
     "metadata": {},
     "output_type": "execute_result"
    }
   ],
   "source": [
    "VerificationResult.successMetricsAsDataFrame(spark, checkResult).toPandas().head(20)"
   ]
  },
  {
   "cell_type": "markdown",
   "metadata": {},
   "source": [
    "## Conclusion"
   ]
  },
  {
   "cell_type": "markdown",
   "metadata": {},
   "source": [
    "Based on the findings, we found out that:\n",
    "\n",
    "1. The size of the dataset is 100000\n",
    "2. Completeness of all columns (x9):  `vendor_code`, `type`, `price` have some missing data\n",
    "3. The column `id` has unique values\n",
    "4. There are some records with a discount less than 0\n",
    "5. There are no records with a discount of more than 100 are present\n",
    "6. There are some records with available quantity in stock less than 0\n",
    "7. There are no records with a quantity of pre-orders less than 0\n"
   ]
  },
  {
   "cell_type": "markdown",
   "metadata": {},
   "source": [
    "**Points of future improvement**:\n",
    "1. Either fill in the missing data or get rid of the record in case it doesn't reflect the result\n",
    "2. Change the value of the outliers to the avarage value"
   ]
  },
  {
   "cell_type": "code",
   "execution_count": null,
   "metadata": {},
   "outputs": [],
   "source": []
  }
 ],
 "metadata": {
  "kernelspec": {
   "display_name": "Python 3",
   "language": "python",
   "name": "python3"
  },
  "language_info": {
   "codemirror_mode": {
    "name": "ipython",
    "version": 3
   },
   "file_extension": ".py",
   "mimetype": "text/x-python",
   "name": "python",
   "nbconvert_exporter": "python",
   "pygments_lexer": "ipython3",
   "version": "3.7.6"
  }
 },
 "nbformat": 4,
 "nbformat_minor": 4
}
